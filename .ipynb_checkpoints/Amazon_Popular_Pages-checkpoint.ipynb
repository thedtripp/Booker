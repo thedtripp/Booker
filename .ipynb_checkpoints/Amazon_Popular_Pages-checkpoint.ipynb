{
 "cells": [
  {
   "cell_type": "markdown",
   "metadata": {},
   "source": [
    "# Scraping from the top 100 lists\n",
    "- Let's explore one of the genre lists on Amazon.com so we can get current titles.\n",
    "- Ideally, we want some identifier like ISBN or ASIN.\n",
    "\n",
    "- We'll start with this link as a general example."
   ]
  },
  {
   "cell_type": "code",
   "execution_count": null,
   "metadata": {},
   "outputs": [],
   "source": [
    "import sys\n",
    "from lxml import html\n",
    "import requests, os, bs4\n",
    "import glob\n",
    "import pandas as pd"
   ]
  },
  {
   "cell_type": "code",
   "execution_count": null,
   "metadata": {},
   "outputs": [],
   "source": [
    "link = \"https://www.amazon.com/gp/bestsellers/books/\"\n",
    "\n",
    "# Sanity check:\n",
    "# Requests appears to be working.\n",
    "#resp = requests.get(link)\n",
    "#resp.text"
   ]
  },
  {
   "cell_type": "code",
   "execution_count": null,
   "metadata": {},
   "outputs": [],
   "source": [
    "def to_tree(url_or_file):\n",
    "    if os.path.isfile(url_or_file):\n",
    "        htmltext = open(url_or_file, 'rb').read()\n",
    "    else:\n",
    "        resp = requests.get(url_or_file)\n",
    "        htmltext = resp.content\n",
    "    return html.fromstring(htmltext)\n",
    "\n",
    "def to_htmltext(url_or_file):\n",
    "    if os.path.isfile(url_or_file):\n",
    "        return open(url_or_file).read()\n",
    "    else:\n",
    "        resp = requests.get(url_or_file)\n",
    "        return resp.content\n",
    "        "
   ]
  },
  {
   "cell_type": "code",
   "execution_count": null,
   "metadata": {},
   "outputs": [],
   "source": [
    "# Testing methods\n",
    "#to_tree(link)\n",
    "#to_htmltext(link)"
   ]
  },
  {
   "cell_type": "code",
   "execution_count": null,
   "metadata": {},
   "outputs": [],
   "source": [
    "#def get_all_links_page(url_or_file):\n",
    "#    tree = to_tree(url_or_file)"
   ]
  }
 ],
 "metadata": {
  "kernelspec": {
   "display_name": "Python 3",
   "language": "python",
   "name": "python3"
  },
  "language_info": {
   "codemirror_mode": {
    "name": "ipython",
    "version": 3
   },
   "file_extension": ".py",
   "mimetype": "text/x-python",
   "name": "python",
   "nbconvert_exporter": "python",
   "pygments_lexer": "ipython3",
   "version": "3.7.4"
  }
 },
 "nbformat": 4,
 "nbformat_minor": 2
}
