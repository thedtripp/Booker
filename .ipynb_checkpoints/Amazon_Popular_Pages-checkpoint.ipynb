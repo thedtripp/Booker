{
 "cells": [
  {
   "cell_type": "markdown",
   "metadata": {},
   "source": [
    "# Scraping from the top 100 lists\n",
    "- Let's explore one of the genre lists on Amazon.com so we can get current titles.\n",
    "- Ideally, we want some identifier like ISBN or ASIN.\n",
    "\n",
    "- We'll start with this link as a general example.\n",
    "- Use this example: https://github.com/byukan/lang/blob/master/parse_html/parse_amazon_html.ipynb"
   ]
  },
  {
   "cell_type": "markdown",
   "metadata": {},
   "source": [
    "# Get a list of product page URLs"
   ]
  },
  {
   "cell_type": "code",
   "execution_count": null,
   "metadata": {},
   "outputs": [],
   "source": [
    "import sys\n",
    "from lxml import html\n",
    "import requests, os, bs4\n",
    "import glob\n",
    "import pandas as pd"
   ]
  },
  {
   "cell_type": "code",
   "execution_count": null,
   "metadata": {},
   "outputs": [],
   "source": [
    "link = \"https://www.amazon.com/gp/bestsellers/books/\"\n",
    "\n",
    "# Sanity check:\n",
    "# Requests appears to be working.\n",
    "#resp = requests.get(link)\n",
    "#resp.text"
   ]
  },
  {
   "cell_type": "code",
   "execution_count": null,
   "metadata": {},
   "outputs": [],
   "source": [
    "def to_tree(url_or_file):\n",
    "    if os.path.isfile(url_or_file):\n",
    "        htmltext = open(url_or_file, 'rb').read()\n",
    "    else:\n",
    "        resp = requests.get(url_or_file)\n",
    "        htmltext = resp.content\n",
    "    return html.fromstring(htmltext)\n",
    "\n",
    "def to_htmltext(url_or_file):\n",
    "    if os.path.isfile(url_or_file):\n",
    "        return open(url_or_file).read()\n",
    "    else:\n",
    "        resp = requests.get(url_or_file)\n",
    "        return resp.content\n",
    "        "
   ]
  },
  {
   "cell_type": "code",
   "execution_count": null,
   "metadata": {},
   "outputs": [],
   "source": [
    "# Testing methods\n",
    "#to_tree(link)\n",
    "#to_htmltext(link)"
   ]
  },
  {
   "cell_type": "code",
   "execution_count": null,
   "metadata": {},
   "outputs": [],
   "source": [
    "#def get_all_links_page(url_or_file):\n",
    "#    tree = to_tree(url_or_file)"
   ]
  },
  {
   "cell_type": "markdown",
   "metadata": {},
   "source": [
    "# Get a list of all the genres and subgenres on the sidebar"
   ]
  },
  {
   "cell_type": "code",
   "execution_count": 1,
   "metadata": {},
   "outputs": [],
   "source": [
    "# todo"
   ]
  },
  {
   "cell_type": "markdown",
   "metadata": {},
   "source": [
    "# Traverse through all the TOP LISTS links and their 2nd pages\n",
    "- get a list of all the product page urls like this:  https://www.amazon.com/Wrecking-Ball-Diary-Wimpy-Book/dp/1419739034/"
   ]
  },
  {
   "cell_type": "markdown",
   "metadata": {},
   "source": [
    "# Set up a MySQL database and store all the data in it"
   ]
  },
  {
   "cell_type": "markdown",
   "metadata": {},
   "source": [
    "# Given a list of ASINs, get all the product info, like title, author, summary, star ratings, num reviews, and everything else\n",
    "- https://github.com/byukan/lang/blob/master/parse_html/parse_amazon_html.ipynb\n",
    "- update sql table"
   ]
  },
  {
   "cell_type": "markdown",
   "metadata": {},
   "source": [
    "- The reviews and summaries will be the corpus for the chatbot."
   ]
  },
  {
   "cell_type": "code",
   "execution_count": null,
   "metadata": {},
   "outputs": [],
   "source": []
  }
 ],
 "metadata": {
  "kernelspec": {
   "display_name": "Python 3",
   "language": "python",
   "name": "python3"
  },
  "language_info": {
   "codemirror_mode": {
    "name": "ipython",
    "version": 3
   },
   "file_extension": ".py",
   "mimetype": "text/x-python",
   "name": "python",
   "nbconvert_exporter": "python",
   "pygments_lexer": "ipython3",
   "version": "3.7.3"
  }
 },
 "nbformat": 4,
 "nbformat_minor": 2
}
