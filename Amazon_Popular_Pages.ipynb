{
 "cells": [
  {
   "cell_type": "markdown",
   "metadata": {},
   "source": [
    "# Scraping from the top 100 lists\n",
    "- Let's explore one of the genre lists on Amazon.com so we can get current titles.\n",
    "- Ideally, we want some identifier like ISBN or ASIN.\n",
    "\n",
    "- We'll start with this link as a general example.\n",
    "- Use this example: https://github.com/byukan/lang/blob/master/parse_html/parse_amazon_html.ipynb"
   ]
  },
  {
   "cell_type": "markdown",
   "metadata": {},
   "source": [
    "# Get a list of product page URLs"
   ]
  },
  {
   "cell_type": "code",
   "execution_count": 49,
   "metadata": {},
   "outputs": [],
   "source": [
    "import sys\n",
    "from lxml import html\n",
    "import requests, os, bs4\n",
    "import glob\n",
    "import pandas as pd"
   ]
  },
  {
   "cell_type": "code",
   "execution_count": 50,
   "metadata": {},
   "outputs": [],
   "source": [
    "link = \"https://www.amazon.com/gp/bestsellers/books/\"\n",
    "\n",
    "# Sanity check:\n",
    "# Requests appears to be working.\n",
    "#resp = requests.get(link)\n",
    "#resp.text"
   ]
  },
  {
   "cell_type": "code",
   "execution_count": 52,
   "metadata": {},
   "outputs": [],
   "source": [
    "def to_tree(url_or_file):\n",
    "    if os.path.isfile(url_or_file):\n",
    "        htmltext = open(url_or_file, 'rb').read()\n",
    "    else:\n",
    "        resp = requests.get(url_or_file)\n",
    "        htmltext = resp.content\n",
    "        print(resp)\n",
    "    return html.fromstring(htmltext)\n",
    "\n",
    "def to_htmltext(url_or_file):\n",
    "    if os.path.isfile(url_or_file):\n",
    "        return open(url_or_file).read()\n",
    "    else:\n",
    "        resp = requests.get(url_or_file)\n",
    "        return resp.content\n",
    "        "
   ]
  },
  {
   "cell_type": "code",
   "execution_count": 47,
   "metadata": {},
   "outputs": [
    {
     "name": "stdout",
     "output_type": "stream",
     "text": [
      "https://www.amazon.com/gp/bestsellers/books/\n"
     ]
    }
   ],
   "source": [
    "print(link)"
   ]
  },
  {
   "cell_type": "code",
   "execution_count": 61,
   "metadata": {
    "scrolled": false
   },
   "outputs": [
    {
     "name": "stdout",
     "output_type": "stream",
     "text": [
      "<Response [200]>\n",
      "['/Wrecking-Ball-Diary-Wimpy-Book/dp/1419739034?_encoding=UTF8&psc=1', '/Dog-Man-Fetch-22-Creator-Underpants/dp/1338323210?_encoding=UTF8&psc=1', '/Harry-Potter-Goblet-Fire-Illustrated/dp/0545791421?_encoding=UTF8&psc=1', '/Difficult-Riddles-Smart-Kids-Families/dp/1546595902?_encoding=UTF8&psc=1', '/Strange-Planet-Nathan-W-Pyle/dp/0062970704?_encoding=UTF8&psc=1', '/Instant-Pot-Pressure-Cooker-Cookbook/dp/1727408403?_encoding=UTF8&psc=1', '/Am-Confident-Brave-Beautiful-Coloring/dp/0692927999?_encoding=UTF8&psc=1', '/Complete-Cookbook-Young-Chefs/dp/1492670022?_encoding=UTF8&psc=1', '/Awesome-Facts-Everything-National-Geographic/dp/1426310498?_encoding=UTF8&psc=1', '/Where-Crawdads-Sing-Delia-Owens/dp/0735219095?_encoding=UTF8&psc=1', '/People-Walmart-com-Adult-Coloring-Book/dp/1945056088?_encoding=UTF8&psc=1', '/Super-Deluxe-Essential-Handbook-Pok%C3%A9mon/dp/1338230891?_encoding=UTF8&psc=1', '/If-Animals-Kissed-Good-Night/dp/0374300216?_encoding=UTF8&psc=1', '/Dog-Man-Creator-Captain-Underpants/dp/1338236598?_encoding=UTF8&psc=1', '/Unofficial-Harry-Potter-Cookbook-Knickerbocker/dp/1440503257?_encoding=UTF8&psc=1', '/Wacky-Waving-Inflatable-Miniature-Editions/dp/0762462876?_encoding=UTF8&psc=1', '/World-Carle-Around-Play-Sound/dp/1450805752?_encoding=UTF8&psc=1', '/How-Catch-Unicorn-Adam-Wallace/dp/1492669733?_encoding=UTF8&psc=1', '/National-Geographic-Little-First-Books/dp/1426307934?_encoding=UTF8&psc=1', '/Disney-Frozen-Reader-Electronic-Library/dp/1503700380?_encoding=UTF8&psc=1', '/Pioneer-Woman-Cooks-Fantastic-Favorites/dp/0062561375?_encoding=UTF8&psc=1', '/Harry-Potter-Paperback-Box-Books/dp/0545162076?_encoding=UTF8&psc=1', '/Shade-Tale-Presidents-Pete-Souza/dp/0316421820?_encoding=UTF8&psc=1', '/Guardians-Novel-John-Grisham/dp/0385544189?_encoding=UTF8&psc=1', '/How-Draw-101-Animals-Green/dp/1842297406?_encoding=UTF8&psc=1', '/Me-Elton-John-Official-Autobiography/dp/1250147603?_encoding=UTF8&psc=1', '/Try-Not-Laugh-Challenge-Completely/dp/1951025083?_encoding=UTF8&psc=1', '/Crook-Cook-Platinum-Recipes-Kitchen/dp/1452179611?_encoding=UTF8&psc=1', '/What-Should-Danny-Power-Choose/dp/069284838X?_encoding=UTF8&psc=1', '/Jackson-Olympians-Paperback-covers-poster/dp/1484707230?_encoding=UTF8&psc=1', '/Junie-Joness-First-Boxed-Books/dp/0375813616?_encoding=UTF8&psc=1', '/Salt-Fat-Acid-Heat-Mastering/dp/1476753830?_encoding=UTF8&psc=1', '/Eberron-Campaign-Setting-Adventure-Dungeons/dp/0786966890?_encoding=UTF8&psc=1', '/Guinness-World-Records-2020/dp/1912286831?_encoding=UTF8&psc=1', '/Harry-Potter-Sorcerers-Stone-Illustrated/dp/0545790352?_encoding=UTF8&psc=1', '/Unicorn-Coloring-Book-Kids-Ages/dp/1999896963?_encoding=UTF8&psc=1', '/Never-Girls-Collection-Disney/dp/0736431411?_encoding=UTF8&psc=1', '/Christmas-Fun-Mad-Libs-Stocking/dp/0515157090?_encoding=UTF8&psc=1', '/Little-Trucks-Christmas-Alice-Schertle/dp/0544320417?_encoding=UTF8&psc=1', '/Harry-Potter-Prisoner-Azkaban-Illustrated/dp/0545791340?_encoding=UTF8&psc=1', '/Warning/dp/1538718464?_encoding=UTF8&psc=1', '/Drawing-Book-Kids-Things-Activities/dp/0997799374?_encoding=UTF8&psc=1', '/Educated-Memoir-Tara-Westover/dp/0399590501?_encoding=UTF8&psc=1', '/Institute-Novel-Stephen-King/dp/1982110562?_encoding=UTF8&psc=1', '/Becoming-Michelle-Obama/dp/1524763136?_encoding=UTF8&psc=1', '/Grumpy-Monkey-Suzanne-Lang/dp/0553537865?_encoding=UTF8&psc=1', '/Harry-Potter-Chamber-Secrets-Illustrated/dp/0545791324?_encoding=UTF8&psc=1', '/How-Babysit-Grandma-relationships/dp/0385753845?_encoding=UTF8&psc=1', '/Good-Night-Little-Blue-Truck/dp/132885213X?_encoding=UTF8&psc=1', '/Dad-Jokes-Terribly-Good/dp/1979369658?_encoding=UTF8&psc=1']\n"
     ]
    }
   ],
   "source": [
    "def get_all_links_page(url_or_file): #get 50 best sellers links\n",
    "    tree = to_tree(url_or_file)\n",
    "    \n",
    "    #url = tree.xpath(\"//*[@class='zg-item-immersion']\")\n",
    "    url = tree.xpath(\"//*[@class='zg-item-immersion']/span/div/span/a/@href\")\n",
    "    #url = tree.xpath(\"//*[@class='zg-item-immersion']\")\n",
    "    \n",
    "    print(url)\n",
    "\n",
    "get_all_links_page(link)"
   ]
  },
  {
   "cell_type": "markdown",
   "metadata": {},
   "source": [
    "### We've obtained links to the top 50 books. We'll hard code them here now."
   ]
  },
  {
   "cell_type": "code",
   "execution_count": 63,
   "metadata": {},
   "outputs": [],
   "source": [
    "relative_links = ['/Wrecking-Ball-Diary-Wimpy-Book/dp/1419739034?_encoding=UTF8&psc=1', '/Dog-Man-Fetch-22-Creator-Underpants/dp/1338323210?_encoding=UTF8&psc=1', '/Harry-Potter-Goblet-Fire-Illustrated/dp/0545791421?_encoding=UTF8&psc=1', '/Difficult-Riddles-Smart-Kids-Families/dp/1546595902?_encoding=UTF8&psc=1', '/Strange-Planet-Nathan-W-Pyle/dp/0062970704?_encoding=UTF8&psc=1', '/Instant-Pot-Pressure-Cooker-Cookbook/dp/1727408403?_encoding=UTF8&psc=1', '/Am-Confident-Brave-Beautiful-Coloring/dp/0692927999?_encoding=UTF8&psc=1', '/Complete-Cookbook-Young-Chefs/dp/1492670022?_encoding=UTF8&psc=1', '/Awesome-Facts-Everything-National-Geographic/dp/1426310498?_encoding=UTF8&psc=1', '/Where-Crawdads-Sing-Delia-Owens/dp/0735219095?_encoding=UTF8&psc=1', '/People-Walmart-com-Adult-Coloring-Book/dp/1945056088?_encoding=UTF8&psc=1', '/Super-Deluxe-Essential-Handbook-Pok%C3%A9mon/dp/1338230891?_encoding=UTF8&psc=1', '/If-Animals-Kissed-Good-Night/dp/0374300216?_encoding=UTF8&psc=1', '/Dog-Man-Creator-Captain-Underpants/dp/1338236598?_encoding=UTF8&psc=1', '/Unofficial-Harry-Potter-Cookbook-Knickerbocker/dp/1440503257?_encoding=UTF8&psc=1', '/Wacky-Waving-Inflatable-Miniature-Editions/dp/0762462876?_encoding=UTF8&psc=1', '/World-Carle-Around-Play-Sound/dp/1450805752?_encoding=UTF8&psc=1', '/How-Catch-Unicorn-Adam-Wallace/dp/1492669733?_encoding=UTF8&psc=1', '/National-Geographic-Little-First-Books/dp/1426307934?_encoding=UTF8&psc=1', '/Disney-Frozen-Reader-Electronic-Library/dp/1503700380?_encoding=UTF8&psc=1', '/Pioneer-Woman-Cooks-Fantastic-Favorites/dp/0062561375?_encoding=UTF8&psc=1', '/Harry-Potter-Paperback-Box-Books/dp/0545162076?_encoding=UTF8&psc=1', '/Shade-Tale-Presidents-Pete-Souza/dp/0316421820?_encoding=UTF8&psc=1', '/Guardians-Novel-John-Grisham/dp/0385544189?_encoding=UTF8&psc=1', '/How-Draw-101-Animals-Green/dp/1842297406?_encoding=UTF8&psc=1', '/Me-Elton-John-Official-Autobiography/dp/1250147603?_encoding=UTF8&psc=1', '/Try-Not-Laugh-Challenge-Completely/dp/1951025083?_encoding=UTF8&psc=1', '/Crook-Cook-Platinum-Recipes-Kitchen/dp/1452179611?_encoding=UTF8&psc=1', '/What-Should-Danny-Power-Choose/dp/069284838X?_encoding=UTF8&psc=1', '/Jackson-Olympians-Paperback-covers-poster/dp/1484707230?_encoding=UTF8&psc=1', '/Junie-Joness-First-Boxed-Books/dp/0375813616?_encoding=UTF8&psc=1', '/Salt-Fat-Acid-Heat-Mastering/dp/1476753830?_encoding=UTF8&psc=1', '/Eberron-Campaign-Setting-Adventure-Dungeons/dp/0786966890?_encoding=UTF8&psc=1', '/Guinness-World-Records-2020/dp/1912286831?_encoding=UTF8&psc=1', '/Harry-Potter-Sorcerers-Stone-Illustrated/dp/0545790352?_encoding=UTF8&psc=1', '/Unicorn-Coloring-Book-Kids-Ages/dp/1999896963?_encoding=UTF8&psc=1', '/Never-Girls-Collection-Disney/dp/0736431411?_encoding=UTF8&psc=1', '/Christmas-Fun-Mad-Libs-Stocking/dp/0515157090?_encoding=UTF8&psc=1', '/Little-Trucks-Christmas-Alice-Schertle/dp/0544320417?_encoding=UTF8&psc=1', '/Harry-Potter-Prisoner-Azkaban-Illustrated/dp/0545791340?_encoding=UTF8&psc=1', '/Warning/dp/1538718464?_encoding=UTF8&psc=1', '/Drawing-Book-Kids-Things-Activities/dp/0997799374?_encoding=UTF8&psc=1', '/Educated-Memoir-Tara-Westover/dp/0399590501?_encoding=UTF8&psc=1', '/Institute-Novel-Stephen-King/dp/1982110562?_encoding=UTF8&psc=1', '/Becoming-Michelle-Obama/dp/1524763136?_encoding=UTF8&psc=1', '/Grumpy-Monkey-Suzanne-Lang/dp/0553537865?_encoding=UTF8&psc=1', '/Harry-Potter-Chamber-Secrets-Illustrated/dp/0545791324?_encoding=UTF8&psc=1', '/How-Babysit-Grandma-relationships/dp/0385753845?_encoding=UTF8&psc=1', '/Good-Night-Little-Blue-Truck/dp/132885213X?_encoding=UTF8&psc=1', '/Dad-Jokes-Terribly-Good/dp/1979369658?_encoding=UTF8&psc=1']"
   ]
  },
  {
   "cell_type": "markdown",
   "metadata": {},
   "source": [
    "### This function extracts the ASINs (a 10 digit product number) from the urls and returns them in a list."
   ]
  },
  {
   "cell_type": "code",
   "execution_count": 84,
   "metadata": {},
   "outputs": [
    {
     "data": {
      "text/plain": [
       "['1419739034',\n",
       " '1338323210',\n",
       " '0545791421',\n",
       " '1546595902',\n",
       " '0062970704',\n",
       " '1727408403',\n",
       " '0692927999',\n",
       " '1492670022',\n",
       " '1426310498',\n",
       " '0735219095',\n",
       " '1945056088',\n",
       " '1338230891',\n",
       " '0374300216',\n",
       " '1338236598',\n",
       " '1440503257',\n",
       " '0762462876',\n",
       " '1450805752',\n",
       " '1492669733',\n",
       " '1426307934',\n",
       " '1503700380',\n",
       " '0062561375',\n",
       " '0545162076',\n",
       " '0316421820',\n",
       " '0385544189',\n",
       " '1842297406',\n",
       " '1250147603',\n",
       " '1951025083',\n",
       " '1452179611',\n",
       " '069284838X',\n",
       " '1484707230',\n",
       " '0375813616',\n",
       " '1476753830',\n",
       " '0786966890',\n",
       " '1912286831',\n",
       " '0545790352',\n",
       " '1999896963',\n",
       " '0736431411',\n",
       " '0515157090',\n",
       " '0544320417',\n",
       " '0545791340',\n",
       " '1538718464',\n",
       " '0997799374',\n",
       " '0399590501',\n",
       " '1982110562',\n",
       " '1524763136',\n",
       " '0553537865',\n",
       " '0545791324',\n",
       " '0385753845',\n",
       " '132885213X',\n",
       " '1979369658']"
      ]
     },
     "execution_count": 84,
     "metadata": {},
     "output_type": "execute_result"
    }
   ],
   "source": [
    "def get_ASIN_from_links(relative_links):\n",
    "    ASIN = []\n",
    "    for link in relative_links:\n",
    "        dp = link.find(\"/dp/\")\n",
    "        link = link[dp + 4:dp + 14]\n",
    "        ASIN.append(link)\n",
    "    return ASIN\n",
    "\n",
    "get_ASIN_from_links(relative_links)\n",
    "#print(relative_links)"
   ]
  },
  {
   "cell_type": "markdown",
   "metadata": {},
   "source": [
    "### Convert ASIN to full URL"
   ]
  },
  {
   "cell_type": "code",
   "execution_count": 93,
   "metadata": {},
   "outputs": [
    {
     "data": {
      "text/plain": [
       "'https://www.amazon.com/dp/1979369658'"
      ]
     },
     "execution_count": 93,
     "metadata": {},
     "output_type": "execute_result"
    }
   ],
   "source": [
    "def ASIN_to_url(ASIN):\n",
    "    domain_name = \"https://www.amazon.com/dp/\"\n",
    "    ASIN = domain_name + ASIN\n",
    "    return ASIN\n",
    "ASIN_to_url('1979369658')"
   ]
  },
  {
   "cell_type": "code",
   "execution_count": 96,
   "metadata": {},
   "outputs": [],
   "source": [
    "sample_html = to_htmltext(ASIN_to_url('1979369658'))"
   ]
  },
  {
   "cell_type": "code",
   "execution_count": 97,
   "metadata": {},
   "outputs": [
    {
     "name": "stdout",
     "output_type": "stream",
     "text": [
      "b'<!DOCTYPE html>\\n<!--[if lt IE 7]> <html lang=\"en-us\" class=\"a-no-js a-lt-ie9 a-lt-ie8 a-lt-ie7\"> <![endif]-->\\n<!--[if IE 7]>    <html lang=\"en-us\" class=\"a-no-js a-lt-ie9 a-lt-ie8\"> <![endif]-->\\n<!--[if IE 8]>    <html lang=\"en-us\" class=\"a-no-js a-lt-ie9\"> <![endif]-->\\n<!--[if gt IE 8]><!-->\\n<html class=\"a-no-js\" lang=\"en-us\"><!--<![endif]--><head>\\n<meta http-equiv=\"content-type\" content=\"text/html; charset=UTF-8\">\\n<meta charset=\"utf-8\">\\n<meta http-equiv=\"X-UA-Compatible\" content=\"IE=edge,chrome=1\">\\n<title dir=\"ltr\">Robot Check</title>\\n<meta name=\"viewport\" content=\"width=device-width\">\\n<link rel=\"stylesheet\" href=\"https://images-na.ssl-images-amazon.com/images/G/01/AUIClients/AmazonUI-3c913031596ca78a3768f4e934b1cc02ce238101.secure.min._V1_.css\">\\n<script>\\n\\nif (true === true) {\\n    var ue_t0 = (+ new Date()),\\n        ue_csm = window,\\n        ue = { t0: ue_t0, d: function() { return (+new Date() - ue_t0); } },\\n        ue_furl = \"fls-na.amazon.com\",\\n        ue_mid = \"ATVPDKIKX0DER\",\\n        ue_sid = (document.cookie.match(/session-id=([0-9-]+)/) || [])[1],\\n        ue_sn = \"opfcaptcha.amazon.com\",\\n        ue_id = \\'VS2YE0DCDX52HGXJZKVA\\';\\n}\\n</script>\\n</head>\\n<body>\\n\\n<!--\\n        To discuss automated access to Amazon data please contact api-services-support@amazon.com.\\n        For information about migrating to our APIs refer to our Marketplace APIs at https://developer.amazonservices.com/ref=rm_c_sv, or our Product Advertising API at https://affiliate-program.amazon.com/gp/advertising/api/detail/main.html/ref=rm_c_ac for advertising use cases.\\n-->\\n\\n<!--\\nCorreios.DoNotSend\\n-->\\n\\n<div class=\"a-container a-padding-double-large\" style=\"min-width:350px;padding:44px 0 !important\">\\n\\n    <div class=\"a-row a-spacing-double-large\" style=\"width: 350px; margin: 0 auto\">\\n\\n        <div class=\"a-row a-spacing-medium a-text-center\"><i class=\"a-icon a-logo\"></i></div>\\n\\n        <div class=\"a-box a-alert a-alert-info a-spacing-base\">\\n            <div class=\"a-box-inner\">\\n                <i class=\"a-icon a-icon-alert\"></i>\\n                <h4>Enter the characters you see below</h4>\\n                <p class=\"a-last\">Sorry, we just need to make sure you\\'re not a robot. For best results, please make sure your browser is accepting cookies.</p>\\n                </div>\\n            </div>\\n\\n            <div class=\"a-section\">\\n\\n                <div class=\"a-box a-color-offset-background\">\\n                    <div class=\"a-box-inner a-padding-extra-large\">\\n\\n                        <form method=\"get\" action=\"/errors/validateCaptcha\" name=\"\">\\n                            <input type=hidden name=\"amzn\" value=\"lphVAZ059PcWyuMPbUEsZQ==\" /><input type=hidden name=\"amzn-r\" value=\"&#047;dp&#047;1979369658\" />\\n                            <div class=\"a-row a-spacing-large\">\\n                                <div class=\"a-box\">\\n                                    <div class=\"a-box-inner\">\\n                                        <h4>Type the characters you see in this image:</h4>\\n                                        <div class=\"a-row a-text-center\">\\n                                            <img src=\"https://images-na.ssl-images-amazon.com/captcha/bfhuzdtn/Captcha_eufdcygdmu.jpg\">\\n                                        </div>\\n                                        <div class=\"a-row a-spacing-base\">\\n                                            <div class=\"a-row\">\\n                                                <div class=\"a-column a-span6\">\\n                                                </div>\\n                                                <div class=\"a-column a-span6 a-span-last a-text-right\">\\n                                                    <a onclick=\"window.location.reload()\">Try different image</a>\\n                                                </div>\\n                                            </div>\\n                                            <input autocomplete=\"off\" spellcheck=\"false\" placeholder=\"Type characters\" id=\"captchacharacters\" name=\"field-keywords\" class=\"a-span12\" autocapitalize=\"off\" autocorrect=\"off\" type=\"text\">\\n                                        </div>\\n                                    </div>\\n                                </div>\\n                            </div>\\n\\n                            <div class=\"a-section a-spacing-extra-large\">\\n\\n                                <div class=\"a-row\">\\n                                    <span class=\"a-button a-button-primary a-span12\">\\n                                        <span class=\"a-button-inner\">\\n                                            <button type=\"submit\" class=\"a-button-text\">Continue shopping</button>\\n                                        </span>\\n                                    </span>\\n                                </div>\\n\\n                            </div>\\n                        </form>\\n\\n                    </div>\\n                </div>\\n\\n            </div>\\n\\n        </div>\\n\\n        <div class=\"a-divider a-divider-section\"><div class=\"a-divider-inner\"></div></div>\\n\\n        <div class=\"a-text-center a-spacing-small a-size-mini\">\\n            <a href=\"https://www.amazon.com/gp/help/customer/display.html/ref=footer_cou?ie=UTF8&nodeId=508088\">Conditions of Use</a>\\n            <span class=\"a-letter-space\"></span>\\n            <span class=\"a-letter-space\"></span>\\n            <span class=\"a-letter-space\"></span>\\n            <span class=\"a-letter-space\"></span>\\n            <a href=\"https://www.amazon.com/gp/help/customer/display.html/ref=footer_privacy?ie=UTF8&nodeId=468496\">Privacy Policy</a>\\n        </div>\\n        <div class=\"a-text-center a-size-mini a-color-secondary\">\\n          &copy; 1996-2014, Amazon.com, Inc. or its affiliates\\n          <script>\\n           if (true === true) {\\n             document.write(\\'<img src=\"https://fls-na.amaz\\'+\\'on.com/\\'+\\'1/oc-csi/1/OP/requestId=VS2YE0DCDX52HGXJZKVA&js=1\" />\\');\\n           };\\n          </script>\\n          <noscript>\\n            <img src=\"https://fls-na.amazon.com/1/oc-csi/1/OP/requestId=VS2YE0DCDX52HGXJZKVA&js=0\" />\\n          </noscript>\\n        </div>\\n    </div>\\n    <script>\\n    if (true === true) {\\n        var elem = document.createElement(\"script\");\\n        elem.src = \"https://images-na.ssl-images-amazon.com/images/G/01/csminstrumentation/csm-captcha-instrumentation.min._V\" + (+ new Date()) + \"_.js\";\\n        document.getElementsByTagName(\\'head\\')[0].appendChild(elem);\\n    }\\n    </script>\\n</body></html>\\n'\n"
     ]
    }
   ],
   "source": [
    "print(sample_html)"
   ]
  },
  {
   "cell_type": "markdown",
   "metadata": {},
   "source": [
    "# Get a list of all the genres and subgenres on the sidebar"
   ]
  },
  {
   "cell_type": "code",
   "execution_count": 6,
   "metadata": {},
   "outputs": [],
   "source": [
    "# todo"
   ]
  },
  {
   "cell_type": "markdown",
   "metadata": {},
   "source": [
    "# Traverse through all the TOP LISTS links and their 2nd pages\n",
    "- get a list of all the product page urls like this:  https://www.amazon.com/Wrecking-Ball-Diary-Wimpy-Book/dp/1419739034/"
   ]
  },
  {
   "cell_type": "markdown",
   "metadata": {},
   "source": [
    "# Set up a MySQL database and store all the data in it"
   ]
  },
  {
   "cell_type": "markdown",
   "metadata": {},
   "source": [
    "# Given a list of ASINs, get all the product info, like title, author, summary, star ratings, num reviews, and everything else\n",
    "- https://github.com/byukan/lang/blob/master/parse_html/parse_amazon_html.ipynb\n",
    "- update sql table"
   ]
  },
  {
   "cell_type": "markdown",
   "metadata": {},
   "source": [
    "- The reviews and summaries will be the corpus for the chatbot."
   ]
  },
  {
   "cell_type": "code",
   "execution_count": null,
   "metadata": {},
   "outputs": [],
   "source": []
  }
 ],
 "metadata": {
  "kernelspec": {
   "display_name": "Python 3",
   "language": "python",
   "name": "python3"
  },
  "language_info": {
   "codemirror_mode": {
    "name": "ipython",
    "version": 3
   },
   "file_extension": ".py",
   "mimetype": "text/x-python",
   "name": "python",
   "nbconvert_exporter": "python",
   "pygments_lexer": "ipython3",
   "version": "3.7.4"
  }
 },
 "nbformat": 4,
 "nbformat_minor": 2
}
